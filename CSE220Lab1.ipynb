{
  "nbformat": 4,
  "nbformat_minor": 0,
  "metadata": {
    "colab": {
      "provenance": []
    },
    "kernelspec": {
      "name": "python3",
      "display_name": "Python 3"
    },
    "language_info": {
      "name": "python"
    }
  },
  "cells": [
    {
      "cell_type": "code",
      "source": [
        " #Task-1\n",
        "def shiftLeft(source, k):\n",
        "  if k<=0 or k>=len(source):\n",
        "    print(\"Invalid Position\")\n",
        "\n",
        "  for i in range(len(source)):\n",
        "    if i<(len(source)-k):\n",
        "      source[i]=source[i+k]\n",
        "      source[i+k]=0\n",
        "  print(source)\n",
        "\n",
        "source=[10,20,30,40,50,60]\n",
        "shiftLeft(source,3)"
      ],
      "metadata": {
        "colab": {
          "base_uri": "https://localhost:8080/"
        },
        "id": "3golE8ZnylPp",
        "outputId": "efd61408-f5b9-422a-a92e-7784937e1f38"
      },
      "execution_count": null,
      "outputs": [
        {
          "output_type": "stream",
          "name": "stdout",
          "text": [
            "[40, 50, 60, 0, 0, 0]\n"
          ]
        }
      ]
    },
    {
      "cell_type": "markdown",
      "source": [],
      "metadata": {
        "id": "ghfC5pVT6A1K"
      }
    },
    {
      "cell_type": "code",
      "source": [
        "#Task-2\n",
        "def  rotateLeft( source, k):\n",
        "\n",
        "  arr=[0]*len(source)\n",
        "\n",
        "  if k<=0 or k>=len(source):\n",
        "    print(\"Invalid Position\")\n",
        "  for i in range(len(source)):\n",
        "    if i<(len(source)-k):\n",
        "      temp=source[i+k]\n",
        "      arr[i+k]=source[i]\n",
        "      arr[i]=temp\n",
        "    else:\n",
        "      arr[i]=source[i-(len(source)-k)]\n",
        "  print(arr)\n",
        "\n",
        "source=[10,20,30,40,50,60]\n",
        "rotateLeft(source,3)"
      ],
      "metadata": {
        "colab": {
          "base_uri": "https://localhost:8080/"
        },
        "id": "HpKLtvfjDAIM",
        "outputId": "825aefc4-41b4-418f-e2d7-fa9751935302"
      },
      "execution_count": null,
      "outputs": [
        {
          "output_type": "stream",
          "name": "stdout",
          "text": [
            "[40, 50, 60, 10, 20, 30]\n"
          ]
        }
      ]
    },
    {
      "cell_type": "code",
      "source": [
        "#Task-3\n",
        "def shifRight( source, k):\n",
        "  if k<=0 or k>=len(source):\n",
        "    print(\"Invalid Position\")\n",
        "\n",
        "  length=len(source)\n",
        "  for i in range(k):\n",
        "    for j in range(length-1,0,-1):\n",
        "      source[j]=source[j-1]\n",
        "    source[i]=0\n",
        "  print(source)\n",
        "\n",
        "source=[10,20,30,40,50,60]\n",
        "shifRight(source,3)"
      ],
      "metadata": {
        "colab": {
          "base_uri": "https://localhost:8080/"
        },
        "id": "1njEgC4QPPqT",
        "outputId": "ba476616-99ea-439d-e8f2-1c4aa0199a2e"
      },
      "execution_count": null,
      "outputs": [
        {
          "output_type": "stream",
          "name": "stdout",
          "text": [
            "[0, 0, 0, 10, 20, 30]\n"
          ]
        }
      ]
    },
    {
      "cell_type": "code",
      "source": [
        "#Task-4\n",
        "def RotateRight(source,k):\n",
        "  if k<=0 or k>=len(source):\n",
        "    print(\"Invalid Position\")\n",
        "\n",
        "  length=len(source)\n",
        "  for i in range(k):\n",
        "    temp=source[length-1]\n",
        "    for j in range(length-1,0,-1):\n",
        "      source[j]=source[j-1]\n",
        "    source[0]=temp\n",
        "  print(source)\n",
        "\n",
        "source=[10,20,30,40,50,60]\n",
        "RotateRight(source,3)"
      ],
      "metadata": {
        "colab": {
          "base_uri": "https://localhost:8080/"
        },
        "id": "sTIkrO0iPI6v",
        "outputId": "54f94779-e869-442c-eeed-9e812fbea6c7"
      },
      "execution_count": null,
      "outputs": [
        {
          "output_type": "stream",
          "name": "stdout",
          "text": [
            "[40, 50, 60, 10, 20, 30]\n"
          ]
        }
      ]
    },
    {
      "cell_type": "code",
      "source": [
        "#Task-5\n",
        "def  remove(source,size,idx):\n",
        "\n",
        "  if size<=0 or size>len(source):\n",
        "    print(\"Invalid Size\")\n",
        "\n",
        "  for elem in range(idx+1,size):\n",
        "        source[elem-1]=source[elem]\n",
        "  source[size-1]=0\n",
        "  print(source)\n",
        "\n",
        "source=[10,20,30,40,50,0,0]\n",
        "remove(source,5,2)"
      ],
      "metadata": {
        "colab": {
          "base_uri": "https://localhost:8080/"
        },
        "id": "j5F33TYa6hnu",
        "outputId": "24cc163a-1c12-486b-895e-c939feee70ce"
      },
      "execution_count": null,
      "outputs": [
        {
          "output_type": "stream",
          "name": "stdout",
          "text": [
            "[10, 20, 40, 50, 0, 0, 0]\n"
          ]
        }
      ]
    },
    {
      "cell_type": "code",
      "source": [
        "#Task-6\n",
        "def removeAll(source,size,element):\n",
        "\n",
        "   if size<=0 or size>len(source):\n",
        "    print(\"Invalid Size\")\n",
        "\n",
        "   for i in range(size):\n",
        "     if source[i]==element:\n",
        "       source[i]=0\n",
        "\n",
        "   k=0\n",
        "   for j in range(size):\n",
        "     if source[j]!=0:\n",
        "       temp=source[k]\n",
        "       source[k]=source[j]\n",
        "       source[j]=temp\n",
        "       k+=1\n",
        "\n",
        "   print(source)\n",
        "source=[10,2,30,2,50,2,2,0,0]\n",
        "removeAll(source,7,2)"
      ],
      "metadata": {
        "colab": {
          "base_uri": "https://localhost:8080/"
        },
        "id": "XSS8-apT8wf5",
        "outputId": "ccfe674c-0df7-4589-8284-52b51a413501"
      },
      "execution_count": null,
      "outputs": [
        {
          "output_type": "stream",
          "name": "stdout",
          "text": [
            "[10, 30, 50, 0, 0, 0, 0, 0, 0]\n"
          ]
        }
      ]
    },
    {
      "cell_type": "code",
      "source": [
        "#Task-7\n",
        "def splitingArray(A):\n",
        "\n",
        "  arr_1=[0]\n",
        "  arr_2=[]\n",
        "  flag=False\n",
        "\n",
        "  for i in range(len(A)):\n",
        "    if i==0:\n",
        "      arr_1[i]=A[i]\n",
        "      arr_2=A[i+1:len(A)]\n",
        "      if sum(arr_1)==sum(arr_2):\n",
        "        flag=True\n",
        "        break\n",
        "      else:\n",
        "        arr_1=[]\n",
        "        flag=False\n",
        "\n",
        "    else:\n",
        "       arr_1=A[0:i+1]\n",
        "       arr_2=A[i+1:len(A)]\n",
        "       if sum(arr_1)==sum(arr_2):\n",
        "        flag=True\n",
        "        break\n",
        "       else:\n",
        "        flag=False\n",
        "  print(flag)\n",
        "\n",
        "A=[1, 1, 1, 2, 1]\n",
        "splitingArray(A)\n",
        "A=[2, 1, 1, 2, 1]\n",
        "splitingArray(A)\n",
        "A=[10, 3, 1, 2, 10]\n",
        "splitingArray(A)"
      ],
      "metadata": {
        "id": "QEpeX4x4j4_6",
        "colab": {
          "base_uri": "https://localhost:8080/"
        },
        "outputId": "9e190046-ecbf-4cdc-8427-a564d5bf9434"
      },
      "execution_count": null,
      "outputs": [
        {
          "output_type": "stream",
          "name": "stdout",
          "text": [
            "True\n",
            "False\n",
            "True\n"
          ]
        }
      ]
    },
    {
      "cell_type": "code",
      "source": [
        "#Task-8\n",
        "def ArraySeries(n):\n",
        "  arr=[0]*(n*n)\n",
        "\n",
        "  i=1\n",
        "  while i<=n:\n",
        "    j=1\n",
        "    while j<=i:\n",
        "      arr[(i*n)-j]=j\n",
        "      j+=1\n",
        "    i+=1\n",
        "\n",
        "  print(arr)\n",
        "\n",
        "ArraySeries(2)\n",
        "ArraySeries(3)\n",
        "ArraySeries(4)"
      ],
      "metadata": {
        "colab": {
          "base_uri": "https://localhost:8080/"
        },
        "id": "H-R4mtmbjtYW",
        "outputId": "f4a8e018-dfbb-40c6-b31e-d3eec4b4790e"
      },
      "execution_count": null,
      "outputs": [
        {
          "output_type": "stream",
          "name": "stdout",
          "text": [
            "[0, 1, 2, 1]\n",
            "[0, 0, 1, 0, 2, 1, 3, 2, 1]\n",
            "[0, 0, 0, 1, 0, 0, 2, 1, 0, 3, 2, 1, 4, 3, 2, 1]\n"
          ]
        }
      ]
    },
    {
      "cell_type": "code",
      "source": [
        "#Task-9\n",
        "def MaxBunchCount(source):\n",
        "  count_a=1\n",
        "  count_b=1\n",
        "\n",
        "  for i in range(len(source)):\n",
        "    if i==len(source)-1:\n",
        "      pass\n",
        "    elif source[i]==source[i+1]:\n",
        "      count_b+=1\n",
        "    else:\n",
        "      count_b=1\n",
        "    if count_b>=count_a:\n",
        "      count_a=count_b\n",
        "  print(count_a)\n",
        "\n",
        "MaxBunchCount([1, 2, 2, 3, 4, 4, 4])\n",
        "MaxBunchCount([1,1,2, 2, 1, 1,1,1])"
      ],
      "metadata": {
        "colab": {
          "base_uri": "https://localhost:8080/"
        },
        "id": "HS24Vde5M_B0",
        "outputId": "dc81e9b5-b048-423e-f0b9-950bc650f967"
      },
      "execution_count": null,
      "outputs": [
        {
          "output_type": "stream",
          "name": "stdout",
          "text": [
            "3\n",
            "4\n"
          ]
        }
      ]
    },
    {
      "cell_type": "code",
      "execution_count": null,
      "metadata": {
        "id": "EM5om30pdSdQ",
        "outputId": "44400dea-a5e8-484f-bba7-3901e049b4dc",
        "colab": {
          "base_uri": "https://localhost:8080/",
          "height": 372
        }
      },
      "outputs": [
        {
          "output_type": "error",
          "ename": "AttributeError",
          "evalue": "ignored",
          "traceback": [
            "\u001b[0;31m---------------------------------------------------------------------------\u001b[0m",
            "\u001b[0;31mAttributeError\u001b[0m                            Traceback (most recent call last)",
            "\u001b[0;32m<ipython-input-14-f95068ada50e>\u001b[0m in \u001b[0;36m<module>\u001b[0;34m\u001b[0m\n\u001b[1;32m     20\u001b[0m \u001b[0;34m\u001b[0m\u001b[0m\n\u001b[1;32m     21\u001b[0m \u001b[0msource\u001b[0m\u001b[0;34m=\u001b[0m\u001b[0;34m{\u001b[0m\u001b[0;36m4\u001b[0m\u001b[0;34m,\u001b[0m\u001b[0;36m5\u001b[0m\u001b[0;34m,\u001b[0m\u001b[0;36m6\u001b[0m\u001b[0;34m,\u001b[0m\u001b[0;36m6\u001b[0m\u001b[0;34m,\u001b[0m\u001b[0;36m4\u001b[0m\u001b[0;34m,\u001b[0m\u001b[0;36m3\u001b[0m\u001b[0;34m,\u001b[0m\u001b[0;36m6\u001b[0m\u001b[0;34m,\u001b[0m\u001b[0;36m4\u001b[0m\u001b[0;34m}\u001b[0m\u001b[0;34m\u001b[0m\u001b[0;34m\u001b[0m\u001b[0m\n\u001b[0;32m---> 22\u001b[0;31m \u001b[0mrepetition\u001b[0m\u001b[0;34m(\u001b[0m\u001b[0msource\u001b[0m\u001b[0;34m)\u001b[0m\u001b[0;34m\u001b[0m\u001b[0;34m\u001b[0m\u001b[0m\n\u001b[0m\u001b[1;32m     23\u001b[0m \u001b[0msource\u001b[0m\u001b[0;34m=\u001b[0m\u001b[0;34m{\u001b[0m\u001b[0;36m3\u001b[0m\u001b[0;34m,\u001b[0m\u001b[0;36m4\u001b[0m\u001b[0;34m,\u001b[0m\u001b[0;36m6\u001b[0m\u001b[0;34m,\u001b[0m\u001b[0;36m3\u001b[0m\u001b[0;34m,\u001b[0m\u001b[0;36m4\u001b[0m\u001b[0;34m,\u001b[0m\u001b[0;36m7\u001b[0m\u001b[0;34m,\u001b[0m\u001b[0;36m4\u001b[0m\u001b[0;34m,\u001b[0m\u001b[0;36m6\u001b[0m\u001b[0;34m,\u001b[0m\u001b[0;36m8\u001b[0m\u001b[0;34m,\u001b[0m\u001b[0;36m6\u001b[0m\u001b[0;34m,\u001b[0m\u001b[0;36m6\u001b[0m\u001b[0;34m}\u001b[0m\u001b[0;34m\u001b[0m\u001b[0;34m\u001b[0m\u001b[0m\n\u001b[1;32m     24\u001b[0m \u001b[0mrepetition\u001b[0m\u001b[0;34m(\u001b[0m\u001b[0msource\u001b[0m\u001b[0;34m)\u001b[0m\u001b[0;34m\u001b[0m\u001b[0;34m\u001b[0m\u001b[0m\n",
            "\u001b[0;32m<ipython-input-14-f95068ada50e>\u001b[0m in \u001b[0;36mrepetition\u001b[0;34m(source)\u001b[0m\n\u001b[1;32m      7\u001b[0m     \u001b[0;32mfor\u001b[0m \u001b[0mi\u001b[0m \u001b[0;32min\u001b[0m \u001b[0msource\u001b[0m\u001b[0;34m:\u001b[0m\u001b[0;34m\u001b[0m\u001b[0;34m\u001b[0m\u001b[0m\n\u001b[1;32m      8\u001b[0m        \u001b[0mkey\u001b[0m\u001b[0;34m=\u001b[0m\u001b[0mi\u001b[0m\u001b[0;34m\u001b[0m\u001b[0;34m\u001b[0m\u001b[0m\n\u001b[0;32m----> 9\u001b[0;31m        \u001b[0mvalue\u001b[0m\u001b[0;34m=\u001b[0m\u001b[0msource\u001b[0m\u001b[0;34m.\u001b[0m\u001b[0mcount\u001b[0m\u001b[0;34m(\u001b[0m\u001b[0mi\u001b[0m\u001b[0;34m)\u001b[0m\u001b[0;34m\u001b[0m\u001b[0;34m\u001b[0m\u001b[0m\n\u001b[0m\u001b[1;32m     10\u001b[0m        \u001b[0mdictionary\u001b[0m\u001b[0;34m.\u001b[0m\u001b[0mupdate\u001b[0m\u001b[0;34m(\u001b[0m\u001b[0;34m{\u001b[0m\u001b[0mkey\u001b[0m\u001b[0;34m:\u001b[0m\u001b[0mvalue\u001b[0m\u001b[0;34m}\u001b[0m\u001b[0;34m)\u001b[0m\u001b[0;34m\u001b[0m\u001b[0;34m\u001b[0m\u001b[0m\n\u001b[1;32m     11\u001b[0m \u001b[0;34m\u001b[0m\u001b[0m\n",
            "\u001b[0;31mAttributeError\u001b[0m: 'set' object has no attribute 'count'"
          ]
        }
      ],
      "source": [
        "#Task-10\n",
        "def repetition(source):\n",
        "\n",
        "    count=0\n",
        "    repeated_list = []\n",
        "    dictionary={}\n",
        "    for i in source:\n",
        "       key=i\n",
        "       value=source.count(i)\n",
        "       dictionary.update({key:value})\n",
        "\n",
        "    for count1 in dictionary.values():\n",
        "        if count1 > 1:\n",
        "            repeated_list.append(count1)\n",
        "\n",
        "    if len(repeated_list) == len(set(repeated_list)):\n",
        "        return False\n",
        "    else:\n",
        "        return True\n",
        "\n",
        "source={4,5,6,6,4,3,6,4}\n",
        "repetition(source)\n",
        "source={3,4,6,3,4,7,4,6,8,6,6}\n",
        "repetition(source)"
      ]
    }
  ]
}