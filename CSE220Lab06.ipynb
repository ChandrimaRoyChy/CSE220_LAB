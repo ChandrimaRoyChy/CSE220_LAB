{
  "nbformat": 4,
  "nbformat_minor": 0,
  "metadata": {
    "colab": {
      "provenance": [],
      "authorship_tag": "ABX9TyMTSA7Zk3B92OHMEQBMeD25"
    },
    "kernelspec": {
      "name": "python3",
      "display_name": "Python 3"
    },
    "language_info": {
      "name": "python"
    }
  },
  "cells": [
    {
      "cell_type": "code",
      "execution_count": null,
      "metadata": {
        "colab": {
          "base_uri": "https://localhost:8080/"
        },
        "id": "9tyFZDcqNmN7",
        "outputId": "fb6aa6ed-3509-488b-d4aa-3885f8c83816"
      },
      "outputs": [
        {
          "name": "stdout",
          "output_type": "stream",
          "text": [
            "Enter the number:5\n"
          ]
        },
        {
          "output_type": "execute_result",
          "data": {
            "text/plain": [
              "120"
            ]
          },
          "metadata": {},
          "execution_count": 2
        }
      ],
      "source": [
        "#Task-1\n",
        "#a\n",
        "def Factorial(n):\n",
        "  if n==0:\n",
        "    return 1\n",
        "  else:\n",
        "    return n*Factorial(n-1)\n",
        "n=int(input(\"Enter the number:\"))\n",
        "Factorial(n)"
      ]
    },
    {
      "cell_type": "code",
      "source": [
        "#b\n",
        "def Fibonacci(n):\n",
        "  if n==1:\n",
        "    return 0\n",
        "  elif n==2:\n",
        "    return 1\n",
        "  else:\n",
        "    return Fibonacci(n-1)+Fibonacci(n-2)\n",
        "\n",
        "n=int(input(\"Enter the number:\"))\n",
        "Fibonacci(n)"
      ],
      "metadata": {
        "colab": {
          "base_uri": "https://localhost:8080/"
        },
        "id": "7ciw5ljlnli9",
        "outputId": "76ec05ad-abc9-4300-83fa-756429b5142e"
      },
      "execution_count": null,
      "outputs": [
        {
          "name": "stdout",
          "output_type": "stream",
          "text": [
            "Enter the number:5\n"
          ]
        },
        {
          "output_type": "execute_result",
          "data": {
            "text/plain": [
              "3"
            ]
          },
          "metadata": {},
          "execution_count": 1
        }
      ]
    },
    {
      "cell_type": "code",
      "source": [
        "#c\n",
        "def array(arr):\n",
        "  if len(arr)==0:\n",
        "    return None\n",
        "  else:\n",
        "    print(arr[0])\n",
        "    return array(arr[1:])\n",
        "\n",
        "arr=[10,20,30,40,50,60]\n",
        "array(arr)"
      ],
      "metadata": {
        "colab": {
          "base_uri": "https://localhost:8080/"
        },
        "id": "jI45sat_RcTt",
        "outputId": "e8d199ce-fac9-47ee-eee3-b7636d51b624"
      },
      "execution_count": null,
      "outputs": [
        {
          "output_type": "stream",
          "name": "stdout",
          "text": [
            "10\n",
            "20\n",
            "30\n",
            "40\n",
            "50\n",
            "60\n"
          ]
        }
      ]
    },
    {
      "cell_type": "code",
      "source": [
        "#d\n",
        "def  powerN(base,n):\n",
        "  if base<1 or n<1:\n",
        "    return 1\n",
        "  else:\n",
        "    return base* powerN(base,n-1)\n",
        "\n",
        "powerN(3, 3)"
      ],
      "metadata": {
        "colab": {
          "base_uri": "https://localhost:8080/"
        },
        "id": "1G3JOaZPLBm7",
        "outputId": "ddae14fd-1938-4eac-8fd1-75e4cb938f51"
      },
      "execution_count": null,
      "outputs": [
        {
          "output_type": "execute_result",
          "data": {
            "text/plain": [
              "27"
            ]
          },
          "metadata": {},
          "execution_count": 4
        }
      ]
    },
    {
      "cell_type": "code",
      "source": [
        "#Task-2\n",
        "#a\n",
        "def binary(num):\n",
        "  bin_num=\"\"\n",
        "  if num==0:\n",
        "    return 0\n",
        "  else:\n",
        "    binary(num//2)\n",
        "    store=num%2\n",
        "    bin_num+=str(store)\n",
        "  print(bin_num,end=\"\")\n",
        "\n",
        "binary(8)"
      ],
      "metadata": {
        "colab": {
          "base_uri": "https://localhost:8080/"
        },
        "id": "YjQFkwwjXaTp",
        "outputId": "249607b5-67f0-46ec-c477-fca3b8e71750"
      },
      "execution_count": null,
      "outputs": [
        {
          "output_type": "stream",
          "name": "stdout",
          "text": [
            "1000"
          ]
        }
      ]
    },
    {
      "cell_type": "code",
      "source": [
        "#b\n",
        "class Node:\n",
        "  def __init__(self,element):\n",
        "    self.elem=element\n",
        "    self.next=None\n",
        "\n",
        "class SinglyLinkdList:\n",
        "  def __init__(self,arr):\n",
        "    self.head=None\n",
        "    tail=None\n",
        "    for i in arr:\n",
        "      new_node=Node(i)\n",
        "      if self.head==None:\n",
        "        self.head=new_node\n",
        "        tail=new_node\n",
        "      else:\n",
        "        tail.next=new_node\n",
        "        tail=new_node\n",
        "\n",
        "  def sum(self,head):\n",
        "    if head is None:\n",
        "      return 0\n",
        "    else:\n",
        "      return head.elem+self.sum(head.next)\n",
        "\n",
        "  def add(self):\n",
        "    return self.sum(self.head)\n",
        "\n",
        "\n",
        "arr=[1, 2, 3, 4, 5, 6, 7]\n",
        "linkedlst = SinglyLinkdList(arr)\n",
        "print(linkedlst.add())"
      ],
      "metadata": {
        "id": "0eW9nEqMoUEb",
        "colab": {
          "base_uri": "https://localhost:8080/"
        },
        "outputId": "3a383b08-368a-4984-d312-d8ea0a8be986"
      },
      "execution_count": null,
      "outputs": [
        {
          "output_type": "stream",
          "name": "stdout",
          "text": [
            "28\n"
          ]
        }
      ]
    },
    {
      "cell_type": "code",
      "source": [
        "#b\n",
        "class Node:\n",
        "  def __init__(self,element):\n",
        "    self.elem=element\n",
        "    self.next=None\n",
        "\n",
        "class SinglyLinkdList:\n",
        "  def __init__(self,arr):\n",
        "    self.head=None\n",
        "    tail=None\n",
        "    for i in arr:\n",
        "      new_node=Node(i)\n",
        "      if self.head==None:\n",
        "        self.head=new_node\n",
        "        tail=new_node\n",
        "      else:\n",
        "        tail.next=new_node\n",
        "        tail=new_node\n",
        "\n",
        "  def reverse(self, head):\n",
        "    if head.next==None:\n",
        "      print(head.elem)\n",
        "    else:\n",
        "      self.reverse(head.next)\n",
        "      print(head.elem)\n",
        "\n",
        "  def reverse_print(self):\n",
        "    return self.reverse(self.head)\n",
        "\n",
        "\n",
        "arr=[10,20,30,40,50,60]\n",
        "linkedlst = SinglyLinkdList(arr)\n",
        "print(linkedlst.reverse_print())"
      ],
      "metadata": {
        "colab": {
          "base_uri": "https://localhost:8080/"
        },
        "id": "RX8VNv6Y1msn",
        "outputId": "1609430a-2989-4577-924f-d72349e693df"
      },
      "execution_count": null,
      "outputs": [
        {
          "output_type": "stream",
          "name": "stdout",
          "text": [
            "60\n",
            "50\n",
            "40\n",
            "30\n",
            "20\n",
            "10\n",
            "None\n"
          ]
        }
      ]
    },
    {
      "cell_type": "code",
      "source": [
        "#task-3\n",
        "def hocBuilder(height):\n",
        "    if height == 0:\n",
        "        return str(0) + \"\\nnot build a house.\"\n",
        "    elif height == 1:\n",
        "        return 8\n",
        "    else:\n",
        "      total=8+(5*(height-1))\n",
        "      hocBuilder(height-1)\n",
        "\n",
        "    return total\n",
        "\n",
        "height = int(input(\"Enter height: \"))\n",
        "print(hocBuilder(height))"
      ],
      "metadata": {
        "colab": {
          "base_uri": "https://localhost:8080/"
        },
        "id": "GloGf89QHqpW",
        "outputId": "7ab26aa7-6969-43e5-919a-552ba7dacd44"
      },
      "execution_count": null,
      "outputs": [
        {
          "output_type": "stream",
          "name": "stdout",
          "text": [
            "Enter height: 3\n",
            "18\n"
          ]
        }
      ]
    },
    {
      "cell_type": "code",
      "source": [
        "# task-4\n",
        "# a\n",
        "def pattern(n):\n",
        "    if n == 0:\n",
        "        return 0\n",
        "    else:\n",
        "        pattern(n-1)\n",
        "        print(n, end=\"\")\n",
        "\n",
        "\n",
        "def pattern_print(n):\n",
        "    if n == 0:\n",
        "        return 0\n",
        "    else:\n",
        "        pattern_print(n-1)\n",
        "    pattern(n)\n",
        "    print()\n",
        "\n",
        "n = int(input(\"Enter the value of n: \"))\n",
        "pattern_print(n)"
      ],
      "metadata": {
        "colab": {
          "base_uri": "https://localhost:8080/"
        },
        "id": "8TbnRGhWOZhY",
        "outputId": "27fbe9c5-0566-4d6b-b566-f162e808aced"
      },
      "execution_count": null,
      "outputs": [
        {
          "output_type": "stream",
          "name": "stdout",
          "text": [
            "Enter the value of n: 5\n",
            "1\n",
            "12\n",
            "123\n",
            "1234\n",
            "12345\n"
          ]
        }
      ]
    },
    {
      "cell_type": "code",
      "source": [
        "# b\n",
        "def pattern(n):\n",
        "    if n == 0:\n",
        "        return 0\n",
        "    else:\n",
        "        pattern(n-1)\n",
        "        print(n, end=\"\")\n",
        "\n",
        "\n",
        "def pattern_print(n, i):\n",
        "    if n == 0:\n",
        "        return 0\n",
        "    else:\n",
        "        gap(n-1)\n",
        "        pattern((i)-n+1)\n",
        "        print()\n",
        "        pattern_print(n-1, i)\n",
        "\n",
        "\n",
        "def gap(n):\n",
        "    if n == 0:\n",
        "        return 0\n",
        "    else:\n",
        "        gap(n - 1)\n",
        "        print(\"\", end=\" \")\n",
        "\n",
        "\n",
        "pattern_print(6, 6)"
      ],
      "metadata": {
        "colab": {
          "base_uri": "https://localhost:8080/"
        },
        "id": "HH6eBuTvPlAG",
        "outputId": "95862f2f-37cf-4c7a-9735-c122915f1d7d"
      },
      "execution_count": null,
      "outputs": [
        {
          "output_type": "stream",
          "name": "stdout",
          "text": [
            "     1\n",
            "    12\n",
            "   123\n",
            "  1234\n",
            " 12345\n",
            "123456\n"
          ]
        }
      ]
    },
    {
      "cell_type": "code",
      "source": [
        "#task-5\n",
        "class FinalQ:\n",
        "    def print(self, array, idx):\n",
        "        if(idx < len(array)):\n",
        "            profit = self.calcProfit(array[idx])\n",
        "            print(f\"{str(idx+1)}. Investment: {array[idx]}; Profit: {profit} \")\n",
        "            self.print(array, idx+1)\n",
        "\n",
        "    def calcProfit(self, invest):\n",
        "        if invest<= 25000:\n",
        "            return 0.0\n",
        "        elif invest > 25000 and invest <= 100000:\n",
        "            return 45 + self.calcProfit(invest-1000)\n",
        "        elif invest > 100000:\n",
        "            return 80 + self.calcProfit(invest-1000)\n",
        "        else:\n",
        "            return 0\n",
        "\n",
        "\n",
        "array = [25000, 100000, 250000, 350000]\n",
        "f = FinalQ()\n",
        "f.print(array, 0)\n"
      ],
      "metadata": {
        "id": "58LjqQ0GQbpZ"
      },
      "execution_count": null,
      "outputs": []
    }
  ]
}