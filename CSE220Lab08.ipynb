{
  "nbformat": 4,
  "nbformat_minor": 0,
  "metadata": {
    "colab": {
      "provenance": [],
      "authorship_tag": "ABX9TyPizGZ+f+v+B++TzJrhxRSL"
    },
    "kernelspec": {
      "name": "python3",
      "display_name": "Python 3"
    },
    "language_info": {
      "name": "python"
    }
  },
  "cells": [
    {
      "cell_type": "code",
      "execution_count": null,
      "metadata": {
        "id": "5sQfQrcg5mfL",
        "colab": {
          "base_uri": "https://localhost:8080/"
        },
        "outputId": "c6025d3b-9f71-4de3-e126-987c889eb2e2"
      },
      "outputs": [
        {
          "output_type": "execute_result",
          "data": {
            "text/plain": [
              "[2, 3, 5, 7, 9, 17, 21]"
            ]
          },
          "metadata": {},
          "execution_count": 1
        }
      ],
      "source": [
        "def selection_sort(data):\n",
        "  for i in range(len(data)-1):\n",
        "    min=i\n",
        "    for j in range(i+1,len(data)):\n",
        "      if data[j]<data[min]:\n",
        "        min=j\n",
        "    if i!=min:\n",
        "        temp=data[i]\n",
        "        data[i]=data[min]\n",
        "        data[min]=temp\n",
        "  return data\n",
        "\n",
        "data=[17,3,9,21,2,7,5]\n",
        "selection_sort(data)"
      ]
    },
    {
      "cell_type": "code",
      "source": [
        "def insertion_sort(data):\n",
        "  for i in range(1,len(data)):\n",
        "    temp=data[i]\n",
        "    j=i-1\n",
        "\n",
        "    while j>=0 and temp<data[j]:\n",
        "      data[j+1]=data[j]\n",
        "      j-=1\n",
        "    data[j+1]=temp\n",
        "\n",
        "  return data\n",
        "\n",
        "data=[17,3,9,21,2,7,5]\n",
        "insertion_sort(data)"
      ],
      "metadata": {
        "colab": {
          "base_uri": "https://localhost:8080/"
        },
        "id": "Ig6BD5VbM6Qz",
        "outputId": "21357bc9-3856-4117-c3ee-6456848e841e"
      },
      "execution_count": null,
      "outputs": [
        {
          "output_type": "execute_result",
          "data": {
            "text/plain": [
              "[2, 3, 5, 7, 9, 17, 21]"
            ]
          },
          "metadata": {},
          "execution_count": 4
        }
      ]
    }
  ]
}